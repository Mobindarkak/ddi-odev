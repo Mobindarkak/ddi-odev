{
 "cells": [
  {
   "cell_type": "code",
   "execution_count": 1,
   "metadata": {},
   "outputs": [],
   "source": [
    "from bs4 import BeautifulSoup\n",
    "import requests\n",
    "import csv\n",
    "import pandas as pd\n",
    "import re\n",
    "from simplemma import text_lemmatizer\n",
    "import matplotlib.pyplot as plt\n",
    "\n",
    "from sklearn.tree import DecisionTreeClassifier\n",
    "from sklearn.feature_extraction.text import TfidfVectorizer\n",
    "from sklearn.model_selection import train_test_split"
   ]
  },
  {
   "cell_type": "code",
   "execution_count": 2,
   "metadata": {},
   "outputs": [
    {
     "data": {
      "text/html": [
       "<div>\n",
       "<style scoped>\n",
       "    .dataframe tbody tr th:only-of-type {\n",
       "        vertical-align: middle;\n",
       "    }\n",
       "\n",
       "    .dataframe tbody tr th {\n",
       "        vertical-align: top;\n",
       "    }\n",
       "\n",
       "    .dataframe thead th {\n",
       "        text-align: right;\n",
       "    }\n",
       "</style>\n",
       "<table border=\"1\" class=\"dataframe\">\n",
       "  <thead>\n",
       "    <tr style=\"text-align: right;\">\n",
       "      <th></th>\n",
       "      <th>Metin</th>\n",
       "      <th>Durum</th>\n",
       "    </tr>\n",
       "  </thead>\n",
       "  <tbody>\n",
       "    <tr>\n",
       "      <th>0</th>\n",
       "      <td>evet anlatıldığı gibi</td>\n",
       "      <td>1</td>\n",
       "    </tr>\n",
       "    <tr>\n",
       "      <th>1</th>\n",
       "      <td>Daha öncede almıştım bu cihazdan ense ve sakal...</td>\n",
       "      <td>1</td>\n",
       "    </tr>\n",
       "    <tr>\n",
       "      <th>2</th>\n",
       "      <td>Ürün gayet başarılı sakal kesmede başlık sayıs...</td>\n",
       "      <td>1</td>\n",
       "    </tr>\n",
       "    <tr>\n",
       "      <th>3</th>\n",
       "      <td>Daha öncede aynısını almıştım çok güzel ve kal...</td>\n",
       "      <td>1</td>\n",
       "    </tr>\n",
       "    <tr>\n",
       "      <th>4</th>\n",
       "      <td>Erkek kuaförüyüm ense ve sıfır sakal traşı içi...</td>\n",
       "      <td>1</td>\n",
       "    </tr>\n",
       "    <tr>\n",
       "      <th>...</th>\n",
       "      <td>...</td>\n",
       "      <td>...</td>\n",
       "    </tr>\n",
       "    <tr>\n",
       "      <th>9767</th>\n",
       "      <td>Şahane?? bağımlı olmamak elde değil ??</td>\n",
       "      <td>1</td>\n",
       "    </tr>\n",
       "    <tr>\n",
       "      <th>9768</th>\n",
       "      <td>Harika gerçekn bayıkdım</td>\n",
       "      <td>1</td>\n",
       "    </tr>\n",
       "    <tr>\n",
       "      <th>9769</th>\n",
       "      <td>Çok bisey bekleyin eğlenceli zevkli minim atar...</td>\n",
       "      <td>1</td>\n",
       "    </tr>\n",
       "    <tr>\n",
       "      <th>9770</th>\n",
       "      <td>Bu ürün hem kaliteli hem de kullanışlı</td>\n",
       "      <td>1</td>\n",
       "    </tr>\n",
       "    <tr>\n",
       "      <th>9771</th>\n",
       "      <td>Teşekkür ederim.mükemmel.</td>\n",
       "      <td>1</td>\n",
       "    </tr>\n",
       "  </tbody>\n",
       "</table>\n",
       "<p>9772 rows × 2 columns</p>\n",
       "</div>"
      ],
      "text/plain": [
       "                                                  Metin  Durum\n",
       "0                                 evet anlatıldığı gibi      1\n",
       "1     Daha öncede almıştım bu cihazdan ense ve sakal...      1\n",
       "2     Ürün gayet başarılı sakal kesmede başlık sayıs...      1\n",
       "3     Daha öncede aynısını almıştım çok güzel ve kal...      1\n",
       "4     Erkek kuaförüyüm ense ve sıfır sakal traşı içi...      1\n",
       "...                                                 ...    ...\n",
       "9767             Şahane?? bağımlı olmamak elde değil ??      1\n",
       "9768                            Harika gerçekn bayıkdım      1\n",
       "9769  Çok bisey bekleyin eğlenceli zevkli minim atar...      1\n",
       "9770             Bu ürün hem kaliteli hem de kullanışlı      1\n",
       "9771                          Teşekkür ederim.mükemmel.      1\n",
       "\n",
       "[9772 rows x 2 columns]"
      ]
     },
     "execution_count": 2,
     "metadata": {},
     "output_type": "execute_result"
    }
   ],
   "source": [
    "df = pd.read_csv(\"urun-yorumlari.csv\", sep=\";\")\n",
    "df.head(-5)"
   ]
  },
  {
   "cell_type": "code",
   "execution_count": 3,
   "metadata": {},
   "outputs": [],
   "source": [
    "stop_words = None\n",
    "with open(\"stopwords.txt\", \"r\") as stop_file:\n",
    "    stop_words = set(stop_file.read().splitlines())\n",
    "\n",
    "def clean(text):\n",
    "    text = text.replace(\"Â\", \"a\")\n",
    "    text = text.replace(\"â\", \"a\")\n",
    "    text = text.replace(\"î\", \"i\")\n",
    "    text = text.replace(\"Î\", \"ı\")\n",
    "    text = text.replace(\"İ\", \"i\")\n",
    "    text = text.replace(\"I\", \"ı\")\n",
    "    text = text.replace(u\"\\u00A0\", \" \")\n",
    "    text = text.replace(\"|\", \" \")\n",
    "\n",
    "    text = re.sub(r\"@[A-Za-z0-9]+\", \" \", text)\n",
    "    text = re.sub(r\"(.)\\1+\", r\"\\1\\1\", text)\n",
    "    text = re.sub(r\"https?:\\/\\/\\S+\", \" \", text)\n",
    "    text = re.sub(r\"http?:\\/\\/\\S+\", \" \", text)\n",
    "    text = re.sub(r\"\\n\", \" \", text)\n",
    "    text = re.sub(r\"#(\\w+)\", \" \", text)\n",
    "    text = re.sub(r\"^\\x00-\\x7F]+\", \" \", text)\n",
    "    text = re.sub(r\"[^A-Za-zâîığüşöçİĞÜŞÖÇ]+\", \" \", text)\n",
    "    text = re.sub(r\"((https://[^\\s]+))\", \" \", text)\n",
    "\n",
    "    text = \" \".join(text.lower().strip().split())\n",
    "    text = text_lemmatizer(text, lang=\"tr\")\n",
    "\n",
    "    return \" \".join([word for word in text if word not in stop_words])"
   ]
  },
  {
   "cell_type": "code",
   "execution_count": 4,
   "metadata": {},
   "outputs": [
    {
     "data": {
      "text/html": [
       "<div>\n",
       "<style scoped>\n",
       "    .dataframe tbody tr th:only-of-type {\n",
       "        vertical-align: middle;\n",
       "    }\n",
       "\n",
       "    .dataframe tbody tr th {\n",
       "        vertical-align: top;\n",
       "    }\n",
       "\n",
       "    .dataframe thead th {\n",
       "        text-align: right;\n",
       "    }\n",
       "</style>\n",
       "<table border=\"1\" class=\"dataframe\">\n",
       "  <thead>\n",
       "    <tr style=\"text-align: right;\">\n",
       "      <th></th>\n",
       "      <th>Metin</th>\n",
       "      <th>Durum</th>\n",
       "      <th>Temiz</th>\n",
       "    </tr>\n",
       "  </thead>\n",
       "  <tbody>\n",
       "    <tr>\n",
       "      <th>0</th>\n",
       "      <td>evet anlatıldığı gibi</td>\n",
       "      <td>1</td>\n",
       "      <td>evet anlat</td>\n",
       "    </tr>\n",
       "    <tr>\n",
       "      <th>1</th>\n",
       "      <td>Daha öncede almıştım bu cihazdan ense ve sakal...</td>\n",
       "      <td>1</td>\n",
       "      <td>önce al cihaz ense sakal tüket için numara sıf...</td>\n",
       "    </tr>\n",
       "    <tr>\n",
       "      <th>2</th>\n",
       "      <td>Ürün gayet başarılı sakal kesmede başlık sayıs...</td>\n",
       "      <td>1</td>\n",
       "      <td>ürün gayet başarı sakal kes başlık sayı fazla ...</td>\n",
       "    </tr>\n",
       "    <tr>\n",
       "      <th>3</th>\n",
       "      <td>Daha öncede aynısını almıştım çok güzel ve kal...</td>\n",
       "      <td>1</td>\n",
       "      <td>önce aynı al çok güzel kalite ürün</td>\n",
       "    </tr>\n",
       "    <tr>\n",
       "      <th>4</th>\n",
       "      <td>Erkek kuaförüyüm ense ve sıfır sakal traşı içi...</td>\n",
       "      <td>1</td>\n",
       "      <td>erkek kuaför ense sıfır sakal traşı için uygun...</td>\n",
       "    </tr>\n",
       "    <tr>\n",
       "      <th>...</th>\n",
       "      <td>...</td>\n",
       "      <td>...</td>\n",
       "      <td>...</td>\n",
       "    </tr>\n",
       "    <tr>\n",
       "      <th>9767</th>\n",
       "      <td>Şahane?? bağımlı olmamak elde değil ??</td>\n",
       "      <td>1</td>\n",
       "      <td>şahane bağımlı el değil</td>\n",
       "    </tr>\n",
       "    <tr>\n",
       "      <th>9768</th>\n",
       "      <td>Harika gerçekn bayıkdım</td>\n",
       "      <td>1</td>\n",
       "      <td>harika gerçekn bayıkdım</td>\n",
       "    </tr>\n",
       "    <tr>\n",
       "      <th>9769</th>\n",
       "      <td>Çok bisey bekleyin eğlenceli zevkli minim atar...</td>\n",
       "      <td>1</td>\n",
       "      <td>çok bisey bekle eğlence zevk mini atarı</td>\n",
       "    </tr>\n",
       "    <tr>\n",
       "      <th>9770</th>\n",
       "      <td>Bu ürün hem kaliteli hem de kullanışlı</td>\n",
       "      <td>1</td>\n",
       "      <td>ürün kalite kullan</td>\n",
       "    </tr>\n",
       "    <tr>\n",
       "      <th>9771</th>\n",
       "      <td>Teşekkür ederim.mükemmel.</td>\n",
       "      <td>1</td>\n",
       "      <td>teşekkür mükemmel</td>\n",
       "    </tr>\n",
       "  </tbody>\n",
       "</table>\n",
       "<p>9772 rows × 3 columns</p>\n",
       "</div>"
      ],
      "text/plain": [
       "                                                  Metin  Durum  \\\n",
       "0                                 evet anlatıldığı gibi      1   \n",
       "1     Daha öncede almıştım bu cihazdan ense ve sakal...      1   \n",
       "2     Ürün gayet başarılı sakal kesmede başlık sayıs...      1   \n",
       "3     Daha öncede aynısını almıştım çok güzel ve kal...      1   \n",
       "4     Erkek kuaförüyüm ense ve sıfır sakal traşı içi...      1   \n",
       "...                                                 ...    ...   \n",
       "9767             Şahane?? bağımlı olmamak elde değil ??      1   \n",
       "9768                            Harika gerçekn bayıkdım      1   \n",
       "9769  Çok bisey bekleyin eğlenceli zevkli minim atar...      1   \n",
       "9770             Bu ürün hem kaliteli hem de kullanışlı      1   \n",
       "9771                          Teşekkür ederim.mükemmel.      1   \n",
       "\n",
       "                                                  Temiz  \n",
       "0                                            evet anlat  \n",
       "1     önce al cihaz ense sakal tüket için numara sıf...  \n",
       "2     ürün gayet başarı sakal kes başlık sayı fazla ...  \n",
       "3                    önce aynı al çok güzel kalite ürün  \n",
       "4     erkek kuaför ense sıfır sakal traşı için uygun...  \n",
       "...                                                 ...  \n",
       "9767                            şahane bağımlı el değil  \n",
       "9768                            harika gerçekn bayıkdım  \n",
       "9769            çok bisey bekle eğlence zevk mini atarı  \n",
       "9770                                 ürün kalite kullan  \n",
       "9771                                  teşekkür mükemmel  \n",
       "\n",
       "[9772 rows x 3 columns]"
      ]
     },
     "execution_count": 4,
     "metadata": {},
     "output_type": "execute_result"
    }
   ],
   "source": [
    "df = pd.read_csv(\"urun-yorumlari.csv\", sep=\";\")\n",
    "\n",
    "df[\"Temiz\"] = df[\"Metin\"].apply(lambda row: clean(row))\n",
    "df.dropna(subset=[\"Temiz\"], inplace=True)\n",
    "\n",
    "df.to_csv(\"son-yorum.csv\", index=False)\n",
    "\n",
    "df.head(-5)"
   ]
  },
  {
   "cell_type": "code",
   "execution_count": 5,
   "metadata": {},
   "outputs": [
    {
     "data": {
      "image/png": "[encoded data removed]",
      "text/plain": [
       "<Figure size 1000x600 with 1 Axes>"
      ]
     },
     "metadata": {},
     "output_type": "display_data"
    }
   ],
   "source": [
    "# Veri setinden durum ve sayılarını al\n",
    "durum_turleri = df[\"Durum\"].value_counts()\n",
    "\n",
    "# Grafik boyutunu ayarlama\n",
    "fig, ax = plt.subplots(figsize=(10, 6))\n",
    "\n",
    "# Grafik çizimi\n",
    "ax.bar(durum_turleri.index, durum_turleri, color=\"green\")\n",
    "\n",
    "# x ekseninde durumları düzgün bir şekilde gösterme\n",
    "plt.xticks(durum_turleri.index)\n",
    "\n",
    "plt.title(\"Durum Türleri ve Sayıları\")\n",
    "plt.xlabel(\"Durum\")\n",
    "plt.ylabel(\"Veri Miktarı\")\n",
    "plt.show()"
   ]
  },
  {
   "cell_type": "code",
   "execution_count": 6,
   "metadata": {},
   "outputs": [
    {
     "name": "stdout",
     "output_type": "stream",
     "text": [
      "9777 9777\n"
     ]
    }
   ],
   "source": [
    "# model eğitimi\n",
    "df = pd.read_csv(\"son-yorum.csv\")\n",
    "\n",
    "X = df[\"Temiz\"].astype(str).to_numpy()\n",
    "y = df[\"Durum\"].to_numpy()\n",
    "\n",
    "print(len(X), len(y))"
   ]
  },
  {
   "cell_type": "code",
   "execution_count": 7,
   "metadata": {},
   "outputs": [],
   "source": [
    "X_train, X_test, y_train, y_test = train_test_split(X, y, test_size=0.2, random_state=42)"
   ]
  },
  {
   "cell_type": "code",
   "execution_count": 8,
   "metadata": {},
   "outputs": [],
   "source": [
    "# vektörleştirme\n",
    "vectorizer = TfidfVectorizer()\n",
    "X_train_tfidf = vectorizer.fit_transform(X_train)\n",
    "X_test_tfidf = vectorizer.transform(X_test)"
   ]
  },
  {
   "cell_type": "code",
   "execution_count": 9,
   "metadata": {},
   "outputs": [
    {
     "data": {
      "text/html": [
       "<style>#sk-container-id-1 {color: black;}#sk-container-id-1 pre{padding: 0;}#sk-container-id-1 div.sk-toggleable {background-color: white;}#sk-container-id-1 label.sk-toggleable__label {cursor: pointer;display: block;width: 100%;margin-bottom: 0;padding: 0.3em;box-sizing: border-box;text-align: center;}#sk-container-id-1 label.sk-toggleable__label-arrow:before {content: \"▸\";float: left;margin-right: 0.25em;color: #696969;}#sk-container-id-1 label.sk-toggleable__label-arrow:hover:before {color: black;}#sk-container-id-1 div.sk-estimator:hover label.sk-toggleable__label-arrow:before {color: black;}#sk-container-id-1 div.sk-toggleable__content {max-height: 0;max-width: 0;overflow: hidden;text-align: left;background-color: #f0f8ff;}#sk-container-id-1 div.sk-toggleable__content pre {margin: 0.2em;color: black;border-radius: 0.25em;background-color: #f0f8ff;}#sk-container-id-1 input.sk-toggleable__control:checked~div.sk-toggleable__content {max-height: 200px;max-width: 100%;overflow: auto;}#sk-container-id-1 input.sk-toggleable__control:checked~label.sk-toggleable__label-arrow:before {content: \"▾\";}#sk-container-id-1 div.sk-estimator input.sk-toggleable__control:checked~label.sk-toggleable__label {background-color: #d4ebff;}#sk-container-id-1 div.sk-label input.sk-toggleable__control:checked~label.sk-toggleable__label {background-color: #d4ebff;}#sk-container-id-1 input.sk-hidden--visually {border: 0;clip: rect(1px 1px 1px 1px);clip: rect(1px, 1px, 1px, 1px);height: 1px;margin: -1px;overflow: hidden;padding: 0;position: absolute;width: 1px;}#sk-container-id-1 div.sk-estimator {font-family: monospace;background-color: #f0f8ff;border: 1px dotted black;border-radius: 0.25em;box-sizing: border-box;margin-bottom: 0.5em;}#sk-container-id-1 div.sk-estimator:hover {background-color: #d4ebff;}#sk-container-id-1 div.sk-parallel-item::after {content: \"\";width: 100%;border-bottom: 1px solid gray;flex-grow: 1;}#sk-container-id-1 div.sk-label:hover label.sk-toggleable__label {background-color: #d4ebff;}#sk-container-id-1 div.sk-serial::before {content: \"\";position: absolute;border-left: 1px solid gray;box-sizing: border-box;top: 0;bottom: 0;left: 50%;z-index: 0;}#sk-container-id-1 div.sk-serial {display: flex;flex-direction: column;align-items: center;background-color: white;padding-right: 0.2em;padding-left: 0.2em;position: relative;}#sk-container-id-1 div.sk-item {position: relative;z-index: 1;}#sk-container-id-1 div.sk-parallel {display: flex;align-items: stretch;justify-content: center;background-color: white;position: relative;}#sk-container-id-1 div.sk-item::before, #sk-container-id-1 div.sk-parallel-item::before {content: \"\";position: absolute;border-left: 1px solid gray;box-sizing: border-box;top: 0;bottom: 0;left: 50%;z-index: -1;}#sk-container-id-1 div.sk-parallel-item {display: flex;flex-direction: column;z-index: 1;position: relative;background-color: white;}#sk-container-id-1 div.sk-parallel-item:first-child::after {align-self: flex-end;width: 50%;}#sk-container-id-1 div.sk-parallel-item:last-child::after {align-self: flex-start;width: 50%;}#sk-container-id-1 div.sk-parallel-item:only-child::after {width: 0;}#sk-container-id-1 div.sk-dashed-wrapped {border: 1px dashed gray;margin: 0 0.4em 0.5em 0.4em;box-sizing: border-box;padding-bottom: 0.4em;background-color: white;}#sk-container-id-1 div.sk-label label {font-family: monospace;font-weight: bold;display: inline-block;line-height: 1.2em;}#sk-container-id-1 div.sk-label-container {text-align: center;}#sk-container-id-1 div.sk-container {/* jupyter's `normalize.less` sets `[hidden] { display: none; }` but bootstrap.min.css set `[hidden] { display: none !important; }` so we also need the `!important` here to be able to override the default hidden behavior on the sphinx rendered scikit-learn.org. See: https://github.com/scikit-learn/scikit-learn/issues/21755 */display: inline-block !important;position: relative;}#sk-container-id-1 div.sk-text-repr-fallback {display: none;}</style><div id=\"sk-container-id-1\" class=\"sk-top-container\"><div class=\"sk-text-repr-fallback\"><pre>DecisionTreeClassifier(max_depth=5)</pre><b>In a Jupyter environment, please rerun this cell to show the HTML representation or trust the notebook. <br />On GitHub, the HTML representation is unable to render, please try loading this page with nbviewer.org.</b></div><div class=\"sk-container\" hidden><div class=\"sk-item\"><div class=\"sk-estimator sk-toggleable\"><input class=\"sk-toggleable__control sk-hidden--visually\" id=\"sk-estimator-id-1\" type=\"checkbox\" checked><label for=\"sk-estimator-id-1\" class=\"sk-toggleable__label sk-toggleable__label-arrow\">DecisionTreeClassifier</label><div class=\"sk-toggleable__content\"><pre>DecisionTreeClassifier(max_depth=5)</pre></div></div></div></div></div>"
      ],
      "text/plain": [
       "DecisionTreeClassifier(max_depth=5)"
      ]
     },
     "execution_count": 9,
     "metadata": {},
     "output_type": "execute_result"
    }
   ],
   "source": [
    "# Decision Tree ile \n",
    "clf = DecisionTreeClassifier(max_depth=5, min_samples_split=2, min_samples_leaf=1)\n",
    "clf.fit(X_train_tfidf, y_train)"
   ]
  },
  {
   "cell_type": "code",
   "execution_count": 10,
   "metadata": {},
   "outputs": [
    {
     "data": {
      "text/plain": [
       "0.7464212678936605"
      ]
     },
     "execution_count": 10,
     "metadata": {},
     "output_type": "execute_result"
    }
   ],
   "source": [
    "# model başarısı \n",
    "clf.score(X_test_tfidf, y_test)"
   ]
  },
  {
   "cell_type": "code",
   "execution_count": 11,
   "metadata": {},
   "outputs": [
    {
     "name": "stdout",
     "output_type": "stream",
     "text": [
      "1\n"
     ]
    }
   ],
   "source": [
    "# dışarıdan girilen girdi için marka tahmini\n",
    "yeni_metin = \"Makine efsane Almayı Kaçırmayın ben çok Beğendim\"\n",
    "yeni_metin_tfidf = vectorizer.transform([yeni_metin])\n",
    "yeni_metin_tfidf = vectorizer.transform([yeni_metin])\n",
    "tahmin_indeks = clf.predict(yeni_metin_tfidf.toarray())[0]\n",
    "print(tahmin_indeks)"
   ]
  }
 ],
 "metadata": {
  "kernelspec": {
   "display_name": "Python 3",
   "language": "python",
   "name": "python3"
  },
  "language_info": {
   "codemirror_mode": {
    "name": "ipython",
    "version": 3
   },
   "file_extension": ".py",
   "mimetype": "text/x-python",
   "name": "python",
   "nbconvert_exporter": "python",
   "pygments_lexer": "ipython3",
   "version": "3.11.1"
  }
 },
 "nbformat": 4,
 "nbformat_minor": 2
}
